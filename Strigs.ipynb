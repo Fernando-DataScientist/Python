{
 "cells": [
  {
   "cell_type": "markdown",
   "id": "cbf59553",
   "metadata": {},
   "source": [
    "# <font color='blue'> Trabalhando com string no python </font>"
   ]
  },
  {
   "cell_type": "code",
   "execution_count": 14,
   "id": "7580d5e4",
   "metadata": {},
   "outputs": [],
   "source": [
    "nome = 'Fernando'"
   ]
  },
  {
   "cell_type": "code",
   "execution_count": 15,
   "id": "3f8e61d6",
   "metadata": {},
   "outputs": [
    {
     "data": {
      "text/plain": [
       "'Fernando'"
      ]
     },
     "execution_count": 15,
     "metadata": {},
     "output_type": "execute_result"
    }
   ],
   "source": [
    "#imprime todo o conteudo da variável\n",
    "nome[:]"
   ]
  },
  {
   "cell_type": "code",
   "execution_count": 16,
   "id": "b6706967",
   "metadata": {},
   "outputs": [
    {
     "data": {
      "text/plain": [
       "'F'"
      ]
     },
     "execution_count": 16,
     "metadata": {},
     "output_type": "execute_result"
    }
   ],
   "source": [
    "#imprimir o string até a posiçao marcada\n",
    "nome[:1]"
   ]
  },
  {
   "cell_type": "code",
   "execution_count": 17,
   "id": "a631e49b",
   "metadata": {},
   "outputs": [
    {
     "data": {
      "text/plain": [
       "'Fer'"
      ]
     },
     "execution_count": 17,
     "metadata": {},
     "output_type": "execute_result"
    }
   ],
   "source": [
    "#imprimir o string até a posiçao marcada\n",
    "nome[:3]"
   ]
  },
  {
   "cell_type": "code",
   "execution_count": 18,
   "id": "f272c0ae",
   "metadata": {},
   "outputs": [
    {
     "data": {
      "text/plain": [
       "'rnando'"
      ]
     },
     "execution_count": 18,
     "metadata": {},
     "output_type": "execute_result"
    }
   ],
   "source": [
    "#imprimir o string a partir da posição marcada\n",
    "nome[2:]"
   ]
  },
  {
   "cell_type": "code",
   "execution_count": 19,
   "id": "c2956113",
   "metadata": {},
   "outputs": [
    {
     "data": {
      "text/plain": [
       "'o'"
      ]
     },
     "execution_count": 19,
     "metadata": {},
     "output_type": "execute_result"
    }
   ],
   "source": [
    "#a posição -1 remete ao final da string\n",
    "nome[-1]"
   ]
  },
  {
   "cell_type": "markdown",
   "id": "78bf6129",
   "metadata": {},
   "source": [
    "#<font color = red>fatiar strings</font>"
   ]
  },
  {
   "cell_type": "code",
   "execution_count": 20,
   "id": "2ab94c61",
   "metadata": {},
   "outputs": [
    {
     "data": {
      "text/plain": [
       "'Frad'"
      ]
     },
     "execution_count": 20,
     "metadata": {},
     "output_type": "execute_result"
    }
   ],
   "source": [
    "nome[::2]"
   ]
  },
  {
   "cell_type": "code",
   "execution_count": 21,
   "id": "611e7528",
   "metadata": {},
   "outputs": [
    {
     "data": {
      "text/plain": [
       "'odnanreF'"
      ]
     },
     "execution_count": 21,
     "metadata": {},
     "output_type": "execute_result"
    }
   ],
   "source": [
    "#escreve a string de tras para frente\n",
    "nome[::-1]"
   ]
  },
  {
   "cell_type": "code",
   "execution_count": 22,
   "id": "45ba29fd",
   "metadata": {},
   "outputs": [
    {
     "name": "stdout",
     "output_type": "stream",
     "text": [
      "Fernando Henrique\n"
     ]
    }
   ],
   "source": [
    "#os strings podem ser concatenados\n",
    "nome = nome + ' Henrique'\n",
    "print(nome)"
   ]
  },
  {
   "cell_type": "code",
   "execution_count": null,
   "id": "d090247b",
   "metadata": {},
   "outputs": [],
   "source": []
  }
 ],
 "metadata": {
  "kernelspec": {
   "display_name": "Python 3 (ipykernel)",
   "language": "python",
   "name": "python3"
  },
  "language_info": {
   "codemirror_mode": {
    "name": "ipython",
    "version": 3
   },
   "file_extension": ".py",
   "mimetype": "text/x-python",
   "name": "python",
   "nbconvert_exporter": "python",
   "pygments_lexer": "ipython3",
   "version": "3.9.7"
  }
 },
 "nbformat": 4,
 "nbformat_minor": 5
}
