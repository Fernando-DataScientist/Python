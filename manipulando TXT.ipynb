{
 "cells": [
  {
   "cell_type": "markdown",
   "id": "d4b60e4c",
   "metadata": {},
   "source": [
    "# <font color='black'> Arquivos TXT </font>"
   ]
  },
  {
   "cell_type": "code",
   "execution_count": 1,
   "id": "70e60a57",
   "metadata": {},
   "outputs": [],
   "source": [
    "texto = 'Texto escrito com intenção de manipular '"
   ]
  },
  {
   "cell_type": "code",
   "execution_count": 2,
   "id": "e25a884d",
   "metadata": {},
   "outputs": [],
   "source": [
    "texto += 'arquivo com strings em formato txt'"
   ]
  },
  {
   "cell_type": "code",
   "execution_count": 3,
   "id": "302c70e9",
   "metadata": {},
   "outputs": [
    {
     "name": "stdout",
     "output_type": "stream",
     "text": [
      "Texto escrito com intenção de manipular arquivo com strings em formato txt\n"
     ]
    }
   ],
   "source": [
    "print(texto)"
   ]
  },
  {
   "cell_type": "code",
   "execution_count": 4,
   "id": "93bc7775",
   "metadata": {},
   "outputs": [],
   "source": [
    "# importando o modulo os (sistema operacional) - utilizado para operar arquivos \n",
    "import os\n",
    "arqv = open(os.path.join('gerador.txt'),'w')\n",
    "#como o modulo 0s foi possivel criar e abrir um arquivo txt"
   ]
  },
  {
   "cell_type": "code",
   "execution_count": 5,
   "id": "737eec64",
   "metadata": {},
   "outputs": [],
   "source": [
    "# gerar arquivo com loop\n",
    "for palavra in texto.split():\n",
    "    arqv.write(palavra + ' ')    "
   ]
  },
  {
   "cell_type": "code",
   "execution_count": 5,
   "id": "72feb3ab",
   "metadata": {},
   "outputs": [],
   "source": [
    "arqv.close()"
   ]
  },
  {
   "cell_type": "code",
   "execution_count": 6,
   "id": "875184b9",
   "metadata": {},
   "outputs": [
    {
     "name": "stdout",
     "output_type": "stream",
     "text": [
      "\n"
     ]
    }
   ],
   "source": [
    "arqv = open('gerador.txt', 'r')\n",
    "print(arqv.read())"
   ]
  },
  {
   "cell_type": "code",
   "execution_count": 8,
   "id": "17ec0f71",
   "metadata": {},
   "outputs": [],
   "source": [
    "arqv.close()"
   ]
  },
  {
   "cell_type": "code",
   "execution_count": 7,
   "id": "273cd2fd",
   "metadata": {},
   "outputs": [
    {
     "name": "stdout",
     "output_type": "stream",
     "text": [
      "\n"
     ]
    }
   ],
   "source": [
    "# programação com with, os comandos tem q estar identados\n",
    "with open('gerador.txt', 'r') as arqv2:\n",
    "    print(arqv2.read())"
   ]
  },
  {
   "cell_type": "code",
   "execution_count": 8,
   "id": "24edc42a",
   "metadata": {},
   "outputs": [],
   "source": [
    "arqv2.close()"
   ]
  },
  {
   "cell_type": "code",
   "execution_count": 16,
   "id": "a96e58d0",
   "metadata": {},
   "outputs": [],
   "source": [
    "with open('gerador.txt', 'w') as arqv2:\n",
    "    arqv2.write(texto[:21])\n",
    "    arqv2.write('\\n')\n",
    "    arqv2.write(texto[21:])\n",
    "arqv2.close()"
   ]
  },
  {
   "cell_type": "code",
   "execution_count": 17,
   "id": "c94e07bb",
   "metadata": {},
   "outputs": [
    {
     "name": "stdout",
     "output_type": "stream",
     "text": [
      "Texto escrito com int\n",
      "enção de manipular arquivo com strings em formato txt\n"
     ]
    }
   ],
   "source": [
    "with open('gerador.txt','r') as arqv2:\n",
    "    print(arqv2.read())"
   ]
  },
  {
   "cell_type": "code",
   "execution_count": null,
   "id": "eb6e3d1d",
   "metadata": {},
   "outputs": [],
   "source": []
  }
 ],
 "metadata": {
  "kernelspec": {
   "display_name": "Python 3 (ipykernel)",
   "language": "python",
   "name": "python3"
  },
  "language_info": {
   "codemirror_mode": {
    "name": "ipython",
    "version": 3
   },
   "file_extension": ".py",
   "mimetype": "text/x-python",
   "name": "python",
   "nbconvert_exporter": "python",
   "pygments_lexer": "ipython3",
   "version": "3.9.7"
  }
 },
 "nbformat": 4,
 "nbformat_minor": 5
}
