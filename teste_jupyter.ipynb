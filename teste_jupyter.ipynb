{
 "cells": [
  {
   "cell_type": "markdown",
   "id": "2d3202c2",
   "metadata": {},
   "source": [
    "# <font color = 'blue'> Python em Jupyter </font>"
   ]
  },
  {
   "cell_type": "markdown",
   "id": "050747f7",
   "metadata": {},
   "source": [
    "## <font color = 'purple'> Exemplo de código em python no jupyter </font>"
   ]
  },
  {
   "cell_type": "code",
   "execution_count": 3,
   "id": "af78687b",
   "metadata": {},
   "outputs": [
    {
     "name": "stdout",
     "output_type": "stream",
     "text": [
      "ola a todos!\n"
     ]
    }
   ],
   "source": [
    "print(\"ola a todos!\")"
   ]
  },
  {
   "cell_type": "code",
   "execution_count": null,
   "id": "bc5f3b03",
   "metadata": {},
   "outputs": [],
   "source": []
  }
 ],
 "metadata": {
  "kernelspec": {
   "display_name": "Python 3 (ipykernel)",
   "language": "python",
   "name": "python3"
  },
  "language_info": {
   "codemirror_mode": {
    "name": "ipython",
    "version": 3
   },
   "file_extension": ".py",
   "mimetype": "text/x-python",
   "name": "python",
   "nbconvert_exporter": "python",
   "pygments_lexer": "ipython3",
   "version": "3.9.7"
  }
 },
 "nbformat": 4,
 "nbformat_minor": 5
}
