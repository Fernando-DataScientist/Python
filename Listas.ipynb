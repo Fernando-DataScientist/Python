{
 "cells": [
  {
   "cell_type": "markdown",
   "id": "15fd45bd",
   "metadata": {},
   "source": [
    "# <font color='red'> Listas em python </font>"
   ]
  },
  {
   "cell_type": "markdown",
   "id": "d1565ba8",
   "metadata": {},
   "source": [
    "    #trabalhando vetores e matrizes"
   ]
  },
  {
   "cell_type": "code",
   "execution_count": 1,
   "id": "48062361",
   "metadata": {},
   "outputs": [],
   "source": [
    "vetor = [7, 12, 3, 25, 1, 8, 0]"
   ]
  },
  {
   "cell_type": "code",
   "execution_count": 2,
   "id": "a633be3e",
   "metadata": {},
   "outputs": [],
   "source": [
    "matriz = [[2, 3, 21],[6, 1, 34], [8, 2, 14]]"
   ]
  },
  {
   "cell_type": "markdown",
   "id": "eae62648",
   "metadata": {},
   "source": [
    "    # selecionando elemento do vetor e da matriz"
   ]
  },
  {
   "cell_type": "code",
   "execution_count": 3,
   "id": "473c114c",
   "metadata": {},
   "outputs": [
    {
     "name": "stdout",
     "output_type": "stream",
     "text": [
      "12\n"
     ]
    }
   ],
   "source": [
    "print(vetor[1])"
   ]
  },
  {
   "cell_type": "code",
   "execution_count": 4,
   "id": "23934f4f",
   "metadata": {},
   "outputs": [
    {
     "name": "stdout",
     "output_type": "stream",
     "text": [
      "[2, 3, 21]\n"
     ]
    }
   ],
   "source": [
    "print(matriz[0])"
   ]
  },
  {
   "cell_type": "code",
   "execution_count": 5,
   "id": "d029f116",
   "metadata": {},
   "outputs": [
    {
     "name": "stdout",
     "output_type": "stream",
     "text": [
      "8\n"
     ]
    }
   ],
   "source": [
    "print(matriz[2][0])"
   ]
  },
  {
   "cell_type": "markdown",
   "id": "d64ce976",
   "metadata": {},
   "source": [
    "#operador in"
   ]
  },
  {
   "cell_type": "code",
   "execution_count": 6,
   "id": "98a96104",
   "metadata": {},
   "outputs": [
    {
     "name": "stdout",
     "output_type": "stream",
     "text": [
      "True\n"
     ]
    }
   ],
   "source": [
    "print(7 in vetor)"
   ]
  },
  {
   "cell_type": "code",
   "execution_count": 7,
   "id": "ac5ab2da",
   "metadata": {},
   "outputs": [
    {
     "name": "stdout",
     "output_type": "stream",
     "text": [
      "False\n"
     ]
    }
   ],
   "source": [
    "print(10 in vetor)"
   ]
  },
  {
   "cell_type": "markdown",
   "id": "caee85b6",
   "metadata": {},
   "source": [
    "#funçoes built-in"
   ]
  },
  {
   "cell_type": "code",
   "execution_count": 8,
   "id": "a2e13fc5",
   "metadata": {},
   "outputs": [
    {
     "data": {
      "text/plain": [
       "3"
      ]
     },
     "execution_count": 8,
     "metadata": {},
     "output_type": "execute_result"
    }
   ],
   "source": [
    "len(matriz)"
   ]
  },
  {
   "cell_type": "code",
   "execution_count": 9,
   "id": "9679d345",
   "metadata": {},
   "outputs": [
    {
     "data": {
      "text/plain": [
       "7"
      ]
     },
     "execution_count": 9,
     "metadata": {},
     "output_type": "execute_result"
    }
   ],
   "source": [
    "len(vetor)"
   ]
  },
  {
   "cell_type": "code",
   "execution_count": 10,
   "id": "b232dcd1",
   "metadata": {},
   "outputs": [
    {
     "data": {
      "text/plain": [
       "[2, 3, 21]"
      ]
     },
     "execution_count": 10,
     "metadata": {},
     "output_type": "execute_result"
    }
   ],
   "source": [
    "min(matriz)"
   ]
  },
  {
   "cell_type": "code",
   "execution_count": 11,
   "id": "a2612b4d",
   "metadata": {},
   "outputs": [
    {
     "data": {
      "text/plain": [
       "25"
      ]
     },
     "execution_count": 11,
     "metadata": {},
     "output_type": "execute_result"
    }
   ],
   "source": [
    "max(vetor)"
   ]
  },
  {
   "cell_type": "markdown",
   "id": "d6828ece",
   "metadata": {},
   "source": [
    "#métodos"
   ]
  },
  {
   "cell_type": "code",
   "execution_count": 12,
   "id": "a131f870",
   "metadata": {},
   "outputs": [
    {
     "name": "stdout",
     "output_type": "stream",
     "text": [
      "[7, 12, 3, 25, 1, 8, 0, 2]\n"
     ]
    }
   ],
   "source": [
    "vetor.append(2)\n",
    "print(vetor)"
   ]
  },
  {
   "cell_type": "code",
   "execution_count": 13,
   "id": "c3c82649",
   "metadata": {},
   "outputs": [
    {
     "name": "stdout",
     "output_type": "stream",
     "text": [
      "[33, 44, [7, 12, 3, 25, 1, 8, 0, 2]]\n"
     ]
    }
   ],
   "source": [
    "vetor_novo = [33 , 44]\n",
    "vetor_novo.append(vetor)\n",
    "print(vetor_novo)"
   ]
  },
  {
   "cell_type": "code",
   "execution_count": 14,
   "id": "3169c836",
   "metadata": {},
   "outputs": [],
   "source": [
    "lista1 = [1, 3, 6, 7, 0]\n",
    "lista2 = []\n",
    "for i in range(len(lista1)):\n",
    "    lista2.append(lista1[i])"
   ]
  },
  {
   "cell_type": "code",
   "execution_count": 15,
   "id": "4123475b",
   "metadata": {},
   "outputs": [
    {
     "data": {
      "text/plain": [
       "[1, 3, 6, 7, 0]"
      ]
     },
     "execution_count": 15,
     "metadata": {},
     "output_type": "execute_result"
    }
   ],
   "source": [
    "lista2"
   ]
  },
  {
   "cell_type": "code",
   "execution_count": 16,
   "id": "f6849610",
   "metadata": {},
   "outputs": [
    {
     "data": {
      "text/plain": [
       "7"
      ]
     },
     "execution_count": 16,
     "metadata": {},
     "output_type": "execute_result"
    }
   ],
   "source": [
    "vetor.index(2)"
   ]
  },
  {
   "cell_type": "code",
   "execution_count": 17,
   "id": "8ca0b3f3",
   "metadata": {},
   "outputs": [
    {
     "name": "stdout",
     "output_type": "stream",
     "text": [
      "[7, 12, 3, 25, 1, 8, 0, 2]\n"
     ]
    }
   ],
   "source": [
    "print(vetor)"
   ]
  },
  {
   "cell_type": "code",
   "execution_count": 18,
   "id": "9044bd99",
   "metadata": {},
   "outputs": [
    {
     "name": "stdout",
     "output_type": "stream",
     "text": [
      "[7, 12, 91, 3, 25, 1, 8, 0, 2]\n"
     ]
    }
   ],
   "source": [
    "#inserção do elemento 91 na posição 2\n",
    "vetor.insert(2,91)\n",
    "print(vetor)"
   ]
  },
  {
   "cell_type": "code",
   "execution_count": 19,
   "id": "d324fb31",
   "metadata": {},
   "outputs": [
    {
     "name": "stdout",
     "output_type": "stream",
     "text": [
      "[2, 0, 8, 1, 25, 3, 91, 12, 7]\n"
     ]
    }
   ],
   "source": [
    "#inverte a posição dos elementos dos vetores como um espelhamento\n",
    "vetor.reverse()\n",
    "print(vetor)"
   ]
  },
  {
   "cell_type": "code",
   "execution_count": 20,
   "id": "74e41872",
   "metadata": {},
   "outputs": [
    {
     "name": "stdout",
     "output_type": "stream",
     "text": [
      "[[8, 2, 14], [6, 1, 34], [2, 3, 21]]\n"
     ]
    }
   ],
   "source": [
    "#fez o mesmo considerando as linhas da matriz como elementos de um vetor\n",
    "matriz.reverse()\n",
    "print(matriz)"
   ]
  },
  {
   "cell_type": "code",
   "execution_count": 25,
   "id": "18dd5715",
   "metadata": {},
   "outputs": [
    {
     "name": "stdout",
     "output_type": "stream",
     "text": [
      "[0, 1, 2, 3, 7, 8, 12, 25, 91]\n",
      "[[2, 8, 14], [6, 1, 34], [2, 3, 21]]\n"
     ]
    }
   ],
   "source": [
    "vetor.sort()\n",
    "matriz[0].sort()\n",
    "print(vetor)\n",
    "print(matriz)\n",
    "#consegui colocar na ordem uma linha (a primeira) da matriz"
   ]
  }
 ],
 "metadata": {
  "kernelspec": {
   "display_name": "Python 3 (ipykernel)",
   "language": "python",
   "name": "python3"
  },
  "language_info": {
   "codemirror_mode": {
    "name": "ipython",
    "version": 3
   },
   "file_extension": ".py",
   "mimetype": "text/x-python",
   "name": "python",
   "nbconvert_exporter": "python",
   "pygments_lexer": "ipython3",
   "version": "3.9.7"
  }
 },
 "nbformat": 4,
 "nbformat_minor": 5
}
