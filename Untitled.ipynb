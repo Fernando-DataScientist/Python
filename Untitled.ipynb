{
 "cells": [
  {
   "cell_type": "markdown",
   "id": "2e163b76",
   "metadata": {},
   "source": [
    "# <font color='red'> Listas em python </font>"
   ]
  },
  {
   "cell_type": "markdown",
   "id": "6fbfbb3b",
   "metadata": {},
   "source": [
    "    #trabalhando vetores e matrizes"
   ]
  },
  {
   "cell_type": "code",
   "execution_count": 1,
   "id": "0aa7cffb",
   "metadata": {},
   "outputs": [],
   "source": [
    "vetor = [7, 12, 3, 25, 1, 8, 0]"
   ]
  },
  {
   "cell_type": "code",
   "execution_count": 2,
   "id": "2f98b272",
   "metadata": {},
   "outputs": [],
   "source": [
    "matriz = [[2, 3, 21],[6, 1, 34], [8, 2, 14]]"
   ]
  },
  {
   "cell_type": "markdown",
   "id": "be07adf5",
   "metadata": {},
   "source": [
    "    # selecionando elemento do vetor e da matriz"
   ]
  },
  {
   "cell_type": "code",
   "execution_count": 3,
   "id": "aea9e1b3",
   "metadata": {},
   "outputs": [
    {
     "name": "stdout",
     "output_type": "stream",
     "text": [
      "12\n"
     ]
    }
   ],
   "source": [
    "print(vetor[1])"
   ]
  },
  {
   "cell_type": "code",
   "execution_count": 4,
   "id": "03711492",
   "metadata": {},
   "outputs": [
    {
     "name": "stdout",
     "output_type": "stream",
     "text": [
      "[2, 3, 21]\n"
     ]
    }
   ],
   "source": [
    "print(matriz[0])"
   ]
  },
  {
   "cell_type": "code",
   "execution_count": 5,
   "id": "b47b5f7a",
   "metadata": {},
   "outputs": [
    {
     "name": "stdout",
     "output_type": "stream",
     "text": [
      "8\n"
     ]
    }
   ],
   "source": [
    "print(matriz[2][0])"
   ]
  },
  {
   "cell_type": "markdown",
   "id": "bf3e2995",
   "metadata": {},
   "source": [
    "#operador in"
   ]
  },
  {
   "cell_type": "code",
   "execution_count": 6,
   "id": "89433f46",
   "metadata": {},
   "outputs": [
    {
     "name": "stdout",
     "output_type": "stream",
     "text": [
      "True\n"
     ]
    }
   ],
   "source": [
    "print(7 in vetor)"
   ]
  },
  {
   "cell_type": "code",
   "execution_count": 7,
   "id": "d50f05d0",
   "metadata": {},
   "outputs": [
    {
     "name": "stdout",
     "output_type": "stream",
     "text": [
      "False\n"
     ]
    }
   ],
   "source": [
    "print(10 in vetor)"
   ]
  },
  {
   "cell_type": "markdown",
   "id": "eb715f17",
   "metadata": {},
   "source": [
    "#funçoes built-in"
   ]
  },
  {
   "cell_type": "code",
   "execution_count": 8,
   "id": "1ce36488",
   "metadata": {},
   "outputs": [
    {
     "data": {
      "text/plain": [
       "3"
      ]
     },
     "execution_count": 8,
     "metadata": {},
     "output_type": "execute_result"
    }
   ],
   "source": [
    "len(matriz)"
   ]
  },
  {
   "cell_type": "code",
   "execution_count": 9,
   "id": "b2f8b008",
   "metadata": {},
   "outputs": [
    {
     "data": {
      "text/plain": [
       "7"
      ]
     },
     "execution_count": 9,
     "metadata": {},
     "output_type": "execute_result"
    }
   ],
   "source": [
    "len(vetor)"
   ]
  },
  {
   "cell_type": "code",
   "execution_count": 10,
   "id": "3ef83c05",
   "metadata": {},
   "outputs": [
    {
     "data": {
      "text/plain": [
       "[2, 3, 21]"
      ]
     },
     "execution_count": 10,
     "metadata": {},
     "output_type": "execute_result"
    }
   ],
   "source": [
    "min(matriz)"
   ]
  },
  {
   "cell_type": "code",
   "execution_count": 11,
   "id": "de06487b",
   "metadata": {},
   "outputs": [
    {
     "data": {
      "text/plain": [
       "25"
      ]
     },
     "execution_count": 11,
     "metadata": {},
     "output_type": "execute_result"
    }
   ],
   "source": [
    "max(vetor)"
   ]
  },
  {
   "cell_type": "markdown",
   "id": "3095243d",
   "metadata": {},
   "source": [
    "#métodos"
   ]
  },
  {
   "cell_type": "code",
   "execution_count": 12,
   "id": "f43a35a8",
   "metadata": {},
   "outputs": [
    {
     "name": "stdout",
     "output_type": "stream",
     "text": [
      "[7, 12, 3, 25, 1, 8, 0, 2]\n"
     ]
    }
   ],
   "source": [
    "vetor.append(2)\n",
    "print(vetor)"
   ]
  },
  {
   "cell_type": "code",
   "execution_count": 13,
   "id": "2ecc15fc",
   "metadata": {},
   "outputs": [
    {
     "name": "stdout",
     "output_type": "stream",
     "text": [
      "[33, 44, [7, 12, 3, 25, 1, 8, 0, 2]]\n"
     ]
    }
   ],
   "source": [
    "vetor_novo = [33 , 44]\n",
    "vetor_novo.append(vetor)\n",
    "print(vetor_novo)"
   ]
  },
  {
   "cell_type": "code",
   "execution_count": 14,
   "id": "66d840bf",
   "metadata": {},
   "outputs": [],
   "source": [
    "lista1 = [1, 3, 6, 7, 0]\n",
    "lista2 = []\n",
    "for i in range(len(lista1)):\n",
    "    lista2.append(lista1[i])"
   ]
  },
  {
   "cell_type": "code",
   "execution_count": 15,
   "id": "6e562dd7",
   "metadata": {},
   "outputs": [
    {
     "data": {
      "text/plain": [
       "[1, 3, 6, 7, 0]"
      ]
     },
     "execution_count": 15,
     "metadata": {},
     "output_type": "execute_result"
    }
   ],
   "source": [
    "lista2"
   ]
  },
  {
   "cell_type": "code",
   "execution_count": 16,
   "id": "07759767",
   "metadata": {},
   "outputs": [
    {
     "data": {
      "text/plain": [
       "7"
      ]
     },
     "execution_count": 16,
     "metadata": {},
     "output_type": "execute_result"
    }
   ],
   "source": [
    "vetor.index(2)"
   ]
  },
  {
   "cell_type": "code",
   "execution_count": 17,
   "id": "23e6f6d5",
   "metadata": {},
   "outputs": [
    {
     "name": "stdout",
     "output_type": "stream",
     "text": [
      "[7, 12, 3, 25, 1, 8, 0, 2]\n"
     ]
    }
   ],
   "source": [
    "print(vetor)"
   ]
  },
  {
   "cell_type": "code",
   "execution_count": 18,
   "id": "5b554748",
   "metadata": {},
   "outputs": [
    {
     "name": "stdout",
     "output_type": "stream",
     "text": [
      "[7, 12, 91, 3, 25, 1, 8, 0, 2]\n"
     ]
    }
   ],
   "source": [
    "#inserção do elemento 91 na posição 2\n",
    "vetor.insert(2,91)\n",
    "print(vetor)"
   ]
  },
  {
   "cell_type": "code",
   "execution_count": 19,
   "id": "0b4969aa",
   "metadata": {},
   "outputs": [
    {
     "name": "stdout",
     "output_type": "stream",
     "text": [
      "[2, 0, 8, 1, 25, 3, 91, 12, 7]\n"
     ]
    }
   ],
   "source": [
    "#inverte a posição dos elementos dos vetores como um espelhamento\n",
    "vetor.reverse()\n",
    "print(vetor)"
   ]
  },
  {
   "cell_type": "code",
   "execution_count": 20,
   "id": "bba9ba5c",
   "metadata": {},
   "outputs": [
    {
     "name": "stdout",
     "output_type": "stream",
     "text": [
      "[[8, 2, 14], [6, 1, 34], [2, 3, 21]]\n"
     ]
    }
   ],
   "source": [
    "#fez o mesmo considerando as linhas da matriz como elementos de um vetor\n",
    "matriz.reverse()\n",
    "print(matriz)"
   ]
  },
  {
   "cell_type": "code",
   "execution_count": null,
   "id": "fd6597bd",
   "metadata": {},
   "outputs": [],
   "source": []
  }
 ],
 "metadata": {
  "kernelspec": {
   "display_name": "Python 3 (ipykernel)",
   "language": "python",
   "name": "python3"
  },
  "language_info": {
   "codemirror_mode": {
    "name": "ipython",
    "version": 3
   },
   "file_extension": ".py",
   "mimetype": "text/x-python",
   "name": "python",
   "nbconvert_exporter": "python",
   "pygments_lexer": "ipython3",
   "version": "3.9.7"
  }
 },
 "nbformat": 4,
 "nbformat_minor": 5
}
