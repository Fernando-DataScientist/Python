{
 "cells": [
  {
   "cell_type": "markdown",
   "id": "4a059eda",
   "metadata": {},
   "source": [
    "# <font color='darkblue' size=4> Introdução a panda </font>"
   ]
  },
  {
   "cell_type": "code",
   "execution_count": 14,
   "id": "a2b73dc7",
   "metadata": {},
   "outputs": [
    {
     "data": {
      "text/plain": [
       "(31101, 8)"
      ]
     },
     "execution_count": 14,
     "metadata": {},
     "output_type": "execute_result"
    }
   ],
   "source": [
    "import pandas as pd\n",
    "#abrir um arquivo CSV\n",
    "df = pd.read_csv(\"salarios.csv\", encoding = \"UTF-8\", sep=',')\n",
    "df.shape"
   ]
  },
  {
   "cell_type": "code",
   "execution_count": 2,
   "id": "8563aab3",
   "metadata": {},
   "outputs": [
    {
     "data": {
      "text/html": [
       "<div>\n",
       "<style scoped>\n",
       "    .dataframe tbody tr th:only-of-type {\n",
       "        vertical-align: middle;\n",
       "    }\n",
       "\n",
       "    .dataframe tbody tr th {\n",
       "        vertical-align: top;\n",
       "    }\n",
       "\n",
       "    .dataframe thead th {\n",
       "        text-align: right;\n",
       "    }\n",
       "</style>\n",
       "<table border=\"1\" class=\"dataframe\">\n",
       "  <thead>\n",
       "    <tr style=\"text-align: right;\">\n",
       "      <th></th>\n",
       "      <th>Name</th>\n",
       "      <th>Job Titles</th>\n",
       "      <th>Department</th>\n",
       "      <th>Full or Part-Time</th>\n",
       "      <th>Salary or Hourly</th>\n",
       "      <th>Typical Hours</th>\n",
       "      <th>Annual Salary</th>\n",
       "      <th>Hourly Rate</th>\n",
       "    </tr>\n",
       "  </thead>\n",
       "  <tbody>\n",
       "    <tr>\n",
       "      <th>0</th>\n",
       "      <td>AARON,  JEFFERY M</td>\n",
       "      <td>SERGEANT</td>\n",
       "      <td>POLICE</td>\n",
       "      <td>F</td>\n",
       "      <td>Salary</td>\n",
       "      <td>NaN</td>\n",
       "      <td>122568.0</td>\n",
       "      <td>NaN</td>\n",
       "    </tr>\n",
       "    <tr>\n",
       "      <th>1</th>\n",
       "      <td>AARON,  KARINA</td>\n",
       "      <td>POLICE OFFICER (ASSIGNED AS DETECTIVE)</td>\n",
       "      <td>POLICE</td>\n",
       "      <td>F</td>\n",
       "      <td>Salary</td>\n",
       "      <td>NaN</td>\n",
       "      <td>110796.0</td>\n",
       "      <td>NaN</td>\n",
       "    </tr>\n",
       "    <tr>\n",
       "      <th>2</th>\n",
       "      <td>ABAD JR,  VICENTE M</td>\n",
       "      <td>CIVIL ENGINEER IV</td>\n",
       "      <td>WATER MGMNT</td>\n",
       "      <td>F</td>\n",
       "      <td>Salary</td>\n",
       "      <td>NaN</td>\n",
       "      <td>122112.0</td>\n",
       "      <td>NaN</td>\n",
       "    </tr>\n",
       "    <tr>\n",
       "      <th>3</th>\n",
       "      <td>ABARCA,  EMMANUEL</td>\n",
       "      <td>CONCRETE LABORER</td>\n",
       "      <td>TRANSPORTN</td>\n",
       "      <td>F</td>\n",
       "      <td>Hourly</td>\n",
       "      <td>40.0</td>\n",
       "      <td>NaN</td>\n",
       "      <td>45.9</td>\n",
       "    </tr>\n",
       "    <tr>\n",
       "      <th>4</th>\n",
       "      <td>ABARCA,  FRANCES J</td>\n",
       "      <td>POLICE OFFICER</td>\n",
       "      <td>POLICE</td>\n",
       "      <td>F</td>\n",
       "      <td>Salary</td>\n",
       "      <td>NaN</td>\n",
       "      <td>86730.0</td>\n",
       "      <td>NaN</td>\n",
       "    </tr>\n",
       "  </tbody>\n",
       "</table>\n",
       "</div>"
      ],
      "text/plain": [
       "                  Name                              Job Titles   Department  \\\n",
       "0    AARON,  JEFFERY M                                SERGEANT       POLICE   \n",
       "1       AARON,  KARINA  POLICE OFFICER (ASSIGNED AS DETECTIVE)       POLICE   \n",
       "2  ABAD JR,  VICENTE M                       CIVIL ENGINEER IV  WATER MGMNT   \n",
       "3    ABARCA,  EMMANUEL                        CONCRETE LABORER   TRANSPORTN   \n",
       "4   ABARCA,  FRANCES J                          POLICE OFFICER       POLICE   \n",
       "\n",
       "  Full or Part-Time Salary or Hourly  Typical Hours  Annual Salary  \\\n",
       "0                 F           Salary            NaN       122568.0   \n",
       "1                 F           Salary            NaN       110796.0   \n",
       "2                 F           Salary            NaN       122112.0   \n",
       "3                 F           Hourly           40.0            NaN   \n",
       "4                 F           Salary            NaN        86730.0   \n",
       "\n",
       "   Hourly Rate  \n",
       "0          NaN  \n",
       "1          NaN  \n",
       "2          NaN  \n",
       "3         45.9  \n",
       "4          NaN  "
      ]
     },
     "execution_count": 2,
     "metadata": {},
     "output_type": "execute_result"
    }
   ],
   "source": [
    "df.head()"
   ]
  },
  {
   "cell_type": "code",
   "execution_count": 3,
   "id": "5ae0486f",
   "metadata": {},
   "outputs": [
    {
     "data": {
      "text/html": [
       "<div>\n",
       "<style scoped>\n",
       "    .dataframe tbody tr th:only-of-type {\n",
       "        vertical-align: middle;\n",
       "    }\n",
       "\n",
       "    .dataframe tbody tr th {\n",
       "        vertical-align: top;\n",
       "    }\n",
       "\n",
       "    .dataframe thead th {\n",
       "        text-align: right;\n",
       "    }\n",
       "</style>\n",
       "<table border=\"1\" class=\"dataframe\">\n",
       "  <thead>\n",
       "    <tr style=\"text-align: right;\">\n",
       "      <th></th>\n",
       "      <th>AARON,  KARINA</th>\n",
       "      <th>POLICE OFFICER (ASSIGNED AS DETECTIVE)</th>\n",
       "      <th>POLICE</th>\n",
       "      <th>F</th>\n",
       "      <th>Salary</th>\n",
       "      <th>Unnamed: 5</th>\n",
       "      <th>110796.00</th>\n",
       "      <th>Unnamed: 7</th>\n",
       "    </tr>\n",
       "  </thead>\n",
       "  <tbody>\n",
       "    <tr>\n",
       "      <th>0</th>\n",
       "      <td>ABAD JR,  VICENTE M</td>\n",
       "      <td>CIVIL ENGINEER IV</td>\n",
       "      <td>WATER MGMNT</td>\n",
       "      <td>F</td>\n",
       "      <td>Salary</td>\n",
       "      <td>NaN</td>\n",
       "      <td>122112.0</td>\n",
       "      <td>NaN</td>\n",
       "    </tr>\n",
       "    <tr>\n",
       "      <th>1</th>\n",
       "      <td>ABARCA,  EMMANUEL</td>\n",
       "      <td>CONCRETE LABORER</td>\n",
       "      <td>TRANSPORTN</td>\n",
       "      <td>F</td>\n",
       "      <td>Hourly</td>\n",
       "      <td>40.0</td>\n",
       "      <td>NaN</td>\n",
       "      <td>45.9</td>\n",
       "    </tr>\n",
       "    <tr>\n",
       "      <th>2</th>\n",
       "      <td>ABARCA,  FRANCES J</td>\n",
       "      <td>POLICE OFFICER</td>\n",
       "      <td>POLICE</td>\n",
       "      <td>F</td>\n",
       "      <td>Salary</td>\n",
       "      <td>NaN</td>\n",
       "      <td>86730.0</td>\n",
       "      <td>NaN</td>\n",
       "    </tr>\n",
       "    <tr>\n",
       "      <th>3</th>\n",
       "      <td>ABBATACOLA,  ROBERT J</td>\n",
       "      <td>ELECTRICAL MECHANIC</td>\n",
       "      <td>AVIATION</td>\n",
       "      <td>F</td>\n",
       "      <td>Hourly</td>\n",
       "      <td>40.0</td>\n",
       "      <td>NaN</td>\n",
       "      <td>51.0</td>\n",
       "    </tr>\n",
       "    <tr>\n",
       "      <th>4</th>\n",
       "      <td>ABBATEMARCO,  JAMES J</td>\n",
       "      <td>FIRE ENGINEER-EMT</td>\n",
       "      <td>FIRE</td>\n",
       "      <td>F</td>\n",
       "      <td>Salary</td>\n",
       "      <td>NaN</td>\n",
       "      <td>118830.0</td>\n",
       "      <td>NaN</td>\n",
       "    </tr>\n",
       "  </tbody>\n",
       "</table>\n",
       "</div>"
      ],
      "text/plain": [
       "          AARON,  KARINA POLICE OFFICER (ASSIGNED AS DETECTIVE)       POLICE  \\\n",
       "0    ABAD JR,  VICENTE M                      CIVIL ENGINEER IV  WATER MGMNT   \n",
       "1      ABARCA,  EMMANUEL                       CONCRETE LABORER   TRANSPORTN   \n",
       "2     ABARCA,  FRANCES J                         POLICE OFFICER       POLICE   \n",
       "3  ABBATACOLA,  ROBERT J                    ELECTRICAL MECHANIC     AVIATION   \n",
       "4  ABBATEMARCO,  JAMES J                      FIRE ENGINEER-EMT         FIRE   \n",
       "\n",
       "   F  Salary  Unnamed: 5  110796.00  Unnamed: 7  \n",
       "0  F  Salary         NaN   122112.0         NaN  \n",
       "1  F  Hourly        40.0        NaN        45.9  \n",
       "2  F  Salary         NaN    86730.0         NaN  \n",
       "3  F  Hourly        40.0        NaN        51.0  \n",
       "4  F  Salary         NaN   118830.0         NaN  "
      ]
     },
     "execution_count": 3,
     "metadata": {},
     "output_type": "execute_result"
    }
   ],
   "source": [
    "df = pd.read_csv(\"salarios.csv\", header = 2 )\n",
    "df.head()"
   ]
  },
  {
   "cell_type": "code",
   "execution_count": 4,
   "id": "3853c43c",
   "metadata": {},
   "outputs": [
    {
     "name": "stdout",
     "output_type": "stream",
     "text": [
      "                      Name                              Job Titles  \\\n",
      "0        AARON,  JEFFERY M                                SERGEANT   \n",
      "1           AARON,  KARINA  POLICE OFFICER (ASSIGNED AS DETECTIVE)   \n",
      "2      ABAD JR,  VICENTE M                       CIVIL ENGINEER IV   \n",
      "3        ABARCA,  EMMANUEL                        CONCRETE LABORER   \n",
      "4       ABARCA,  FRANCES J                          POLICE OFFICER   \n",
      "...                    ...                                     ...   \n",
      "31096   ZYLINSKA,  KLAUDIA                          POLICE OFFICER   \n",
      "31097   ZYMANTAS,  LAURA C                          POLICE OFFICER   \n",
      "31098    ZYMANTAS,  MARK E                          POLICE OFFICER   \n",
      "31099  ZYRKOWSKI,  CARLO E                          POLICE OFFICER   \n",
      "31100  ZYSKOWSKI,  DARIUSZ                 CHIEF DATA BASE ANALYST   \n",
      "\n",
      "        Department  \n",
      "0           POLICE  \n",
      "1           POLICE  \n",
      "2      WATER MGMNT  \n",
      "3       TRANSPORTN  \n",
      "4           POLICE  \n",
      "...            ...  \n",
      "31096       POLICE  \n",
      "31097       POLICE  \n",
      "31098       POLICE  \n",
      "31099       POLICE  \n",
      "31100         DAIS  \n",
      "\n",
      "[31101 rows x 3 columns]\n"
     ]
    }
   ],
   "source": [
    "df = pd.read_csv(\"salarios.csv\", usecols = ['Name', 'Job Titles', 'Department'])\n",
    "print(df)"
   ]
  },
  {
   "cell_type": "code",
   "execution_count": 15,
   "id": "2f65b1f1",
   "metadata": {},
   "outputs": [
    {
     "name": "stdout",
     "output_type": "stream",
     "text": [
      "                    Name                              Job Titles\n",
      "0      AARON,  JEFFERY M                                SERGEANT\n",
      "1         AARON,  KARINA  POLICE OFFICER (ASSIGNED AS DETECTIVE)\n",
      "2    ABAD JR,  VICENTE M                       CIVIL ENGINEER IV\n",
      "3      ABARCA,  EMMANUEL                        CONCRETE LABORER\n",
      "4     ABARCA,  FRANCES J                          POLICE OFFICER\n",
      "5  ABBATACOLA,  ROBERT J                     ELECTRICAL MECHANIC\n",
      "6  ABBATEMARCO,  JAMES J                       FIRE ENGINEER-EMT\n",
      "7       ABBATE,  TERRY M                          POLICE OFFICER\n",
      "8       ABBOTT,  BETTY L                      FOSTER GRANDPARENT\n",
      "9      ABBOTT,  CARMELLA                          POLICE OFFICER\n"
     ]
    }
   ],
   "source": [
    "df = pd.read_csv(\"salarios.csv\", usecols = ['Name', 'Job Titles'], nrows = 10)\n",
    "print(df)"
   ]
  },
  {
   "cell_type": "code",
   "execution_count": 16,
   "id": "f3cecdfa",
   "metadata": {},
   "outputs": [
    {
     "data": {
      "text/plain": [
       "(10, 2)"
      ]
     },
     "execution_count": 16,
     "metadata": {},
     "output_type": "execute_result"
    }
   ],
   "source": [
    "df.shape"
   ]
  }
 ],
 "metadata": {
  "kernelspec": {
   "display_name": "Python 3 (ipykernel)",
   "language": "python",
   "name": "python3"
  },
  "language_info": {
   "codemirror_mode": {
    "name": "ipython",
    "version": 3
   },
   "file_extension": ".py",
   "mimetype": "text/x-python",
   "name": "python",
   "nbconvert_exporter": "python",
   "pygments_lexer": "ipython3",
   "version": "3.9.7"
  }
 },
 "nbformat": 4,
 "nbformat_minor": 5
}
