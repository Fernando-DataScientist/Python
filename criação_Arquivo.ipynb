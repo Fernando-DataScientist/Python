{
 "cells": [
  {
   "cell_type": "markdown",
   "id": "6bd3c049",
   "metadata": {},
   "source": [
    "# <font color='blue'> Automatização de escrita de arquivo </font>"
   ]
  },
  {
   "cell_type": "code",
   "execution_count": 2,
   "id": "396137c4",
   "metadata": {},
   "outputs": [
    {
     "name": "stdout",
     "output_type": "stream",
     "text": [
      "digite um nome para o arquivoteste\n"
     ]
    }
   ],
   "source": [
    "arqv1 = input('digite um nome para o arquivo')"
   ]
  },
  {
   "cell_type": "code",
   "execution_count": 3,
   "id": "5e903a67",
   "metadata": {},
   "outputs": [],
   "source": [
    "arqv1 += \".txt\""
   ]
  },
  {
   "cell_type": "code",
   "execution_count": 4,
   "id": "30a2a78d",
   "metadata": {},
   "outputs": [],
   "source": [
    "arquivo = open(arqv1, 'w')"
   ]
  },
  {
   "cell_type": "code",
   "execution_count": 5,
   "id": "31dbe48c",
   "metadata": {},
   "outputs": [],
   "source": [
    "arquivo.write(\"texto feito como exemplo\")\n",
    "arquivo.close()\n"
   ]
  },
  {
   "cell_type": "code",
   "execution_count": 6,
   "id": "5506e95e",
   "metadata": {},
   "outputs": [
    {
     "name": "stdout",
     "output_type": "stream",
     "text": [
      "texto feito como exemplo\n"
     ]
    }
   ],
   "source": [
    "arquivo = open(arqv1, 'r')\n",
    "print(arquivo.read())"
   ]
  },
  {
   "cell_type": "code",
   "execution_count": null,
   "id": "d6472d25",
   "metadata": {},
   "outputs": [],
   "source": []
  }
 ],
 "metadata": {
  "kernelspec": {
   "display_name": "Python 3 (ipykernel)",
   "language": "python",
   "name": "python3"
  },
  "language_info": {
   "codemirror_mode": {
    "name": "ipython",
    "version": 3
   },
   "file_extension": ".py",
   "mimetype": "text/x-python",
   "name": "python",
   "nbconvert_exporter": "python",
   "pygments_lexer": "ipython3",
   "version": "3.9.7"
  }
 },
 "nbformat": 4,
 "nbformat_minor": 5
}
