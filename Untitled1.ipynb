{
 "cells": [
  {
   "cell_type": "markdown",
   "id": "f6f4e1b6",
   "metadata": {},
   "source": [
    "# <font color='blue'> Automatização de escrita de arquivo </font>"
   ]
  },
  {
   "cell_type": "code",
   "execution_count": 2,
   "id": "ec81a72e",
   "metadata": {},
   "outputs": [
    {
     "name": "stdout",
     "output_type": "stream",
     "text": [
      "digite um nome para o arquivoteste\n"
     ]
    }
   ],
   "source": [
    "arqv1 = input('digite um nome para o arquivo')"
   ]
  },
  {
   "cell_type": "code",
   "execution_count": 3,
   "id": "e5b66c5a",
   "metadata": {},
   "outputs": [],
   "source": [
    "arqv1 += \".txt\""
   ]
  },
  {
   "cell_type": "code",
   "execution_count": 4,
   "id": "fe220811",
   "metadata": {},
   "outputs": [],
   "source": [
    "arquivo = open(arqv1, 'w')"
   ]
  },
  {
   "cell_type": "code",
   "execution_count": 5,
   "id": "2810c6d1",
   "metadata": {},
   "outputs": [],
   "source": [
    "arquivo.write(\"texto feito como exemplo\")\n",
    "arquivo.close()\n"
   ]
  },
  {
   "cell_type": "code",
   "execution_count": 6,
   "id": "f148e5ce",
   "metadata": {},
   "outputs": [
    {
     "name": "stdout",
     "output_type": "stream",
     "text": [
      "texto feito como exemplo\n"
     ]
    }
   ],
   "source": [
    "arquivo = open(arqv1, 'r')\n",
    "print(arquivo.read())"
   ]
  },
  {
   "cell_type": "code",
   "execution_count": null,
   "id": "8e3ce11d",
   "metadata": {},
   "outputs": [],
   "source": []
  }
 ],
 "metadata": {
  "kernelspec": {
   "display_name": "Python 3 (ipykernel)",
   "language": "python",
   "name": "python3"
  },
  "language_info": {
   "codemirror_mode": {
    "name": "ipython",
    "version": 3
   },
   "file_extension": ".py",
   "mimetype": "text/x-python",
   "name": "python",
   "nbconvert_exporter": "python",
   "pygments_lexer": "ipython3",
   "version": "3.9.7"
  }
 },
 "nbformat": 4,
 "nbformat_minor": 5
}
