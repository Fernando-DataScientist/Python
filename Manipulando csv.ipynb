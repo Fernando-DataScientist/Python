{
 "cells": [
  {
   "cell_type": "markdown",
   "id": "d6edbd53",
   "metadata": {},
   "source": [
    "# <font color='orange'> Manipulação CSV </font>"
   ]
  },
  {
   "cell_type": "code",
   "execution_count": 10,
   "id": "36deaa7b",
   "metadata": {},
   "outputs": [],
   "source": [
    "#existe uma biblioteca no python destinada a manipular dados csv\n",
    "import csv"
   ]
  },
  {
   "cell_type": "code",
   "execution_count": 11,
   "id": "b102c6ab",
   "metadata": {},
   "outputs": [],
   "source": [
    "with open('tabela_python.csv','w') as tabela:\n",
    "    writer = csv.writer(tabela)\n",
    "    writer.writerow((1,3,7))\n",
    "    writer.writerow((33, 15, 16))\n",
    "    writer.writerow((9, 3, 8))"
   ]
  },
  {
   "cell_type": "code",
   "execution_count": 12,
   "id": "af8785fc",
   "metadata": {},
   "outputs": [
    {
     "name": "stdout",
     "output_type": "stream",
     "text": [
      "número de linhas:  3\n",
      "número de linhas:  3\n",
      "número de linhas:  3\n",
      "[]\n"
     ]
    }
   ],
   "source": [
    "with open('tabela_python.csv','r') as tabela:\n",
    "    reader = csv.reader(tabela)\n",
    "#imprimindo numero de linhas\n",
    "    for elemento in reader:\n",
    "        print('número de linhas: ', len(elemento))\n"
   ]
  },
  {
   "cell_type": "code",
   "execution_count": 17,
   "id": "5cabd060",
   "metadata": {},
   "outputs": [
    {
     "name": "stdout",
     "output_type": "stream",
     "text": [
      "[['1', '3', '7'], ['33', '15', '16'], ['9', '3', '8']]\n"
     ]
    }
   ],
   "source": [
    "#convertendo o arquivo csv em lista para ser manipulada internamento no pytHON\n",
    "with open('tabela_python.csv','r') as tabela:\n",
    "    leitura = csv.reader(tabela)\n",
    "    lista = list(leitura)\n",
    "    print(lista)"
   ]
  }
 ],
 "metadata": {
  "kernelspec": {
   "display_name": "Python 3 (ipykernel)",
   "language": "python",
   "name": "python3"
  },
  "language_info": {
   "codemirror_mode": {
    "name": "ipython",
    "version": 3
   },
   "file_extension": ".py",
   "mimetype": "text/x-python",
   "name": "python",
   "nbconvert_exporter": "python",
   "pygments_lexer": "ipython3",
   "version": "3.9.7"
  }
 },
 "nbformat": 4,
 "nbformat_minor": 5
}
