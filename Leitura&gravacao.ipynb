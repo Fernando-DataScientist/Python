{
 "cells": [
  {
   "cell_type": "markdown",
   "id": "c237ad96",
   "metadata": {},
   "source": [
    "# <font color='green'>Leitura e escrita de arquivos</font>"
   ]
  },
  {
   "cell_type": "markdown",
   "id": "2fdb919f",
   "metadata": {},
   "source": [
    "#<font color='black' size=3> Leitura </font>"
   ]
  },
  {
   "cell_type": "code",
   "execution_count": 2,
   "id": "e7031769",
   "metadata": {},
   "outputs": [
    {
     "name": "stdout",
     "output_type": "stream",
     "text": [
      "Python é uma linguagem poderosa\n",
      "\n"
     ]
    }
   ],
   "source": [
    "#abertura do arquivo de leitura \n",
    "arqv1 = open(\"arquivo1.txt\",\"r\")\n",
    "#impressão pelo metodo .read\n",
    "print(arqv1.read())"
   ]
  },
  {
   "cell_type": "code",
   "execution_count": 3,
   "id": "4ae8b737",
   "metadata": {},
   "outputs": [
    {
     "name": "stdout",
     "output_type": "stream",
     "text": [
      "1\n"
     ]
    }
   ],
   "source": [
    "#colocar o cursor para leitura do arquivo\n",
    "print(arqv1.seek(1,0))"
   ]
  },
  {
   "cell_type": "code",
   "execution_count": 5,
   "id": "19a3d585",
   "metadata": {},
   "outputs": [
    {
     "name": "stdout",
     "output_type": "stream",
     "text": [
      "ython é um\n"
     ]
    }
   ],
   "source": [
    "#leitura de 10 caracteres a partir da posição especificada pelo metodo seek no texto\n",
    "print(arqv1.read(10))"
   ]
  },
  {
   "cell_type": "markdown",
   "id": "4aba7bb7",
   "metadata": {},
   "source": [
    "#<font color='black' size=3> Escrita </font>"
   ]
  },
  {
   "cell_type": "code",
   "execution_count": 1,
   "id": "58d5a38a",
   "metadata": {},
   "outputs": [
    {
     "data": {
      "text/plain": [
       "25"
      ]
     },
     "execution_count": 1,
     "metadata": {},
     "output_type": "execute_result"
    }
   ],
   "source": [
    "#abertura de arquivo para escrita\n",
    "arqv2 = open(\"arquivo2.txt\", \"w\")\n",
    "arqv2.write(\"escrita da primeira linha\")"
   ]
  },
  {
   "cell_type": "code",
   "execution_count": 2,
   "id": "94c77659",
   "metadata": {},
   "outputs": [
    {
     "name": "stdout",
     "output_type": "stream",
     "text": [
      "escrita da primeira linha\n"
     ]
    }
   ],
   "source": [
    "arqv2.close()\n",
    "arqv2 = open(\"arquivo2.txt\", \"r\")\n",
    "print(arqv2.read())"
   ]
  },
  {
   "cell_type": "code",
   "execution_count": 7,
   "id": "f7bd98f0",
   "metadata": {},
   "outputs": [],
   "source": [
    "arqv2.close()\n",
    "arqv3 = open(\"arquivo2.txt\", \"a\")"
   ]
  },
  {
   "cell_type": "code",
   "execution_count": 8,
   "id": "23d416fb",
   "metadata": {},
   "outputs": [],
   "source": [
    "arqv3.write(\"\\n segunda linha foi adicionada\")\n",
    "arqv3.close()"
   ]
  },
  {
   "cell_type": "code",
   "execution_count": 1,
   "id": "76de2c5f",
   "metadata": {},
   "outputs": [
    {
     "name": "stdout",
     "output_type": "stream",
     "text": [
      "escrita da primeira linha\n",
      " segunda linha foi adicionada\n",
      "\n"
     ]
    }
   ],
   "source": [
    "arqv3 = open(\"arquivo2.txt\", \"r\")\n",
    "print(arqv3.read())\n",
    "arqv3.close()"
   ]
  },
  {
   "cell_type": "code",
   "execution_count": null,
   "id": "8fae7336",
   "metadata": {},
   "outputs": [],
   "source": []
  }
 ],
 "metadata": {
  "kernelspec": {
   "display_name": "Python 3 (ipykernel)",
   "language": "python",
   "name": "python3"
  },
  "language_info": {
   "codemirror_mode": {
    "name": "ipython",
    "version": 3
   },
   "file_extension": ".py",
   "mimetype": "text/x-python",
   "name": "python",
   "nbconvert_exporter": "python",
   "pygments_lexer": "ipython3",
   "version": "3.9.7"
  }
 },
 "nbformat": 4,
 "nbformat_minor": 5
}
