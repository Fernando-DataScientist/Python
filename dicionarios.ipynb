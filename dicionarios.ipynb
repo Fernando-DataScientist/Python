{
 "cells": [
  {
   "cell_type": "markdown",
   "id": "1f867ae4",
   "metadata": {},
   "source": [
    "# <font color =green> Utilização de dicionario python </font>"
   ]
  },
  {
   "cell_type": "markdown",
   "id": "b1dd2f64",
   "metadata": {},
   "source": [
    "# <font size=3 color='black'> A estrutura do dicionário é composto por chaves e separação dos elementos por virgula, onde cada elemento é composto por chave e valor associado </font>"
   ]
  },
  {
   "cell_type": "markdown",
   "id": "95e69a2d",
   "metadata": {},
   "source": [
    "# <font size=3 color ='purple'> Dicionário = {k1:v1, k2:v2, ..., knvn} </font> \n",
    "# <font size=3 color ='purple'> kn é a chave e vn é o valor associado </font>"
   ]
  },
  {
   "cell_type": "code",
   "execution_count": 1,
   "id": "0f4af5c6",
   "metadata": {},
   "outputs": [
    {
     "name": "stdout",
     "output_type": "stream",
     "text": [
      "{'maria': 21, 'joca': 12, 'renato': 45}\n"
     ]
    }
   ],
   "source": [
    "dic = {'maria':21, 'joca':12, 'renato':45}\n",
    "print(dic)"
   ]
  },
  {
   "cell_type": "code",
   "execution_count": 2,
   "id": "bdc455c8",
   "metadata": {},
   "outputs": [
    {
     "name": "stdout",
     "output_type": "stream",
     "text": [
      "{'maria': 21, 'joca': 12, 'renato': 45, 'ana': 26}\n"
     ]
    }
   ],
   "source": [
    "dic['ana']=26\n",
    "print(dic)"
   ]
  },
  {
   "cell_type": "code",
   "execution_count": 3,
   "id": "492be376",
   "metadata": {},
   "outputs": [
    {
     "name": "stdout",
     "output_type": "stream",
     "text": [
      "{}\n"
     ]
    }
   ],
   "source": [
    "dic.clear()\n",
    "print(dic)"
   ]
  },
  {
   "cell_type": "code",
   "execution_count": 6,
   "id": "f0030d23",
   "metadata": {},
   "outputs": [
    {
     "ename": "NameError",
     "evalue": "name 'dic' is not defined",
     "output_type": "error",
     "traceback": [
      "\u001b[0;31m---------------------------------------------------------------------------\u001b[0m",
      "\u001b[0;31mNameError\u001b[0m                                 Traceback (most recent call last)",
      "\u001b[0;32m/tmp/ipykernel_14948/2234860615.py\u001b[0m in \u001b[0;36m<module>\u001b[0;34m\u001b[0m\n\u001b[1;32m      1\u001b[0m \u001b[0;31m# apagar o dicionario\u001b[0m\u001b[0;34m\u001b[0m\u001b[0;34m\u001b[0m\u001b[0m\n\u001b[1;32m      2\u001b[0m \u001b[0;32mdel\u001b[0m \u001b[0mdic\u001b[0m\u001b[0;34m\u001b[0m\u001b[0;34m\u001b[0m\u001b[0m\n\u001b[0;32m----> 3\u001b[0;31m \u001b[0mprint\u001b[0m\u001b[0;34m(\u001b[0m\u001b[0mdic\u001b[0m\u001b[0;34m)\u001b[0m\u001b[0;34m\u001b[0m\u001b[0;34m\u001b[0m\u001b[0m\n\u001b[0m",
      "\u001b[0;31mNameError\u001b[0m: name 'dic' is not defined"
     ]
    }
   ],
   "source": [
    "# apagar o dicionario\n",
    "del dic\n",
    "print(dic)"
   ]
  },
  {
   "cell_type": "code",
   "execution_count": 3,
   "id": "cf5fec83",
   "metadata": {},
   "outputs": [
    {
     "data": {
      "text/plain": [
       "dict_keys(['maria', 'joca', 'renato', 'ana'])"
      ]
     },
     "execution_count": 3,
     "metadata": {},
     "output_type": "execute_result"
    }
   ],
   "source": [
    "dic.keys()"
   ]
  },
  {
   "cell_type": "code",
   "execution_count": 5,
   "id": "84c652ed",
   "metadata": {},
   "outputs": [
    {
     "data": {
      "text/plain": [
       "dict_values([21, 12, 45, 26])"
      ]
     },
     "execution_count": 5,
     "metadata": {},
     "output_type": "execute_result"
    }
   ],
   "source": [
    "dic.values()"
   ]
  },
  {
   "cell_type": "code",
   "execution_count": 7,
   "id": "8f8be8d7",
   "metadata": {},
   "outputs": [
    {
     "data": {
      "text/plain": [
       "dict_items([('maria', 21), ('joca', 12), ('renato', 45), ('ana', 26)])"
      ]
     },
     "execution_count": 7,
     "metadata": {},
     "output_type": "execute_result"
    }
   ],
   "source": [
    "dic.items()"
   ]
  },
  {
   "cell_type": "code",
   "execution_count": 8,
   "id": "3958dad0",
   "metadata": {},
   "outputs": [],
   "source": [
    "dic2 = {'celia':11, 'renata':44, 'pedro':25 }"
   ]
  },
  {
   "cell_type": "code",
   "execution_count": 9,
   "id": "e83f1703",
   "metadata": {},
   "outputs": [
    {
     "name": "stdout",
     "output_type": "stream",
     "text": [
      "{'maria': 21, 'joca': 12, 'renato': 45, 'ana': 26, 'celia': 11, 'renata': 44, 'pedro': 25}\n"
     ]
    }
   ],
   "source": [
    "#realiza a união de dois dicionarios\n",
    "dic.update(dic2)\n",
    "print(dic)"
   ]
  },
  {
   "cell_type": "code",
   "execution_count": 12,
   "id": "5ac11c15",
   "metadata": {},
   "outputs": [
    {
     "name": "stdout",
     "output_type": "stream",
     "text": [
      "{120: ['maria', 21], 371: ['renato', 11]}\n"
     ]
    }
   ],
   "source": [
    "dic3 = {120:['maria',21], 371:['renato',11]}\n",
    "print(dic3)"
   ]
  },
  {
   "cell_type": "code",
   "execution_count": 13,
   "id": "21c0b01e",
   "metadata": {},
   "outputs": [
    {
     "data": {
      "text/plain": [
       "'MARIA'"
      ]
     },
     "execution_count": 13,
     "metadata": {},
     "output_type": "execute_result"
    }
   ],
   "source": [
    "dic3[120][0].upper()\n",
    "#selecionei a chave 120 do dicionario e o indice 0 do vetor associado"
   ]
  },
  {
   "cell_type": "code",
   "execution_count": null,
   "id": "f4f198e3",
   "metadata": {},
   "outputs": [],
   "source": []
  }
 ],
 "metadata": {
  "kernelspec": {
   "display_name": "Python 3 (ipykernel)",
   "language": "python",
   "name": "python3"
  },
  "language_info": {
   "codemirror_mode": {
    "name": "ipython",
    "version": 3
   },
   "file_extension": ".py",
   "mimetype": "text/x-python",
   "name": "python",
   "nbconvert_exporter": "python",
   "pygments_lexer": "ipython3",
   "version": "3.9.7"
  }
 },
 "nbformat": 4,
 "nbformat_minor": 5
}
